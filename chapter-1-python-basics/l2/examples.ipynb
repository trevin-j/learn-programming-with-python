{
 "cells": [
  {
   "cell_type": "code",
   "execution_count": null,
   "metadata": {},
   "outputs": [],
   "source": [
    "favorite_food = \"pizza\"\n",
    "\n",
    "print(\"My favorite food is: \")\n",
    "print(favorite_food)"
   ]
  },
  {
   "cell_type": "code",
   "execution_count": null,
   "metadata": {},
   "outputs": [],
   "source": [
    "first_name = \"Joe\"\n",
    "last_name = \"Mama\"\n",
    "\n",
    "print(\"Hello,\", first_name, last_name, \"!\")"
   ]
  },
  {
   "cell_type": "code",
   "execution_count": null,
   "metadata": {},
   "outputs": [],
   "source": [
    "user_input = input()\n",
    "print(user_input)"
   ]
  },
  {
   "cell_type": "code",
   "execution_count": null,
   "metadata": {},
   "outputs": [],
   "source": [
    "name = input(\"Enter your name: \")\n",
    "print(\"Name:\", name)"
   ]
  },
  {
   "cell_type": "code",
   "execution_count": null,
   "metadata": {},
   "outputs": [],
   "source": [
    "# print(\"A\")\n",
    "print(\"c\")\n",
    "\"\"\" print(\"i\") \"\"\"\n",
    "print(\"o\")\n",
    "print(\"m\")\n",
    "\"\"\"\n",
    "print(\"g\")\n",
    "print(\"W\")\n",
    "print(\"2\")\n",
    "\"\"\"\n",
    "print(\"m\")\n",
    "print(\"e\")\n",
    "print(\"n\")\n",
    "\"\"\"\n",
    "# print(\"v\")\n",
    "print(\"&\")\n",
    "\"\"\"\n",
    "print(\"t\")\n",
    "print(\"s\")\n",
    "print(\"!\")"
   ]
  }
 ],
 "metadata": {
  "interpreter": {
   "hash": "eb017cbe3d287060ab2ff85a435c9497168dd1c4d85019320a6d412a95ca102f"
  },
  "kernelspec": {
   "display_name": "Python 3.9.4 64-bit",
   "language": "python",
   "name": "python3"
  },
  "language_info": {
   "codemirror_mode": {
    "name": "ipython",
    "version": 3
   },
   "file_extension": ".py",
   "mimetype": "text/x-python",
   "name": "python",
   "nbconvert_exporter": "python",
   "pygments_lexer": "ipython3",
   "version": "3.9.4"
  },
  "orig_nbformat": 4
 },
 "nbformat": 4,
 "nbformat_minor": 2
}
