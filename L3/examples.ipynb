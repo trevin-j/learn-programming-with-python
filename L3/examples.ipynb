{
 "cells": [
  {
   "cell_type": "code",
   "execution_count": 2,
   "metadata": {},
   "outputs": [
    {
     "name": "stdout",
     "output_type": "stream",
     "text": [
      "x + y =  20\n",
      "x - y =  -4\n",
      "x * y =  96\n",
      "x / y =  0.6666666666666666\n"
     ]
    }
   ],
   "source": [
    "# Let's start by demonstrating each of the 4 basic math operations.\n",
    "\n",
    "x = 8\n",
    "y = 12\n",
    "\n",
    "# Addition\n",
    "addition = x + y\n",
    "print(\"x + y = \", addition)\n",
    "\n",
    "# Subtraction\n",
    "subtraction = x - y\n",
    "print(\"x - y = \", subtraction)\n",
    "\n",
    "# Multiplication\n",
    "multiplication = x * y\n",
    "print(\"x * y = \", multiplication)\n",
    "\n",
    "# Division; x and y are both integers, but when we do a regular division, remember that the output will be a float, even if x is divisible by y\n",
    "division = x / y\n",
    "print(\"x / y = \", division)"
   ]
  },
  {
   "cell_type": "code",
   "execution_count": 3,
   "metadata": {},
   "outputs": [
    {
     "name": "stdout",
     "output_type": "stream",
     "text": [
      "x // y =  3\n",
      "x % y =  2\n",
      "x ** y =  64000000\n"
     ]
    }
   ],
   "source": [
    "# Some more advanced math operations\n",
    "x = 20\n",
    "y = 6\n",
    "\n",
    "# Integer division\n",
    "# Integer division is different from regular division, because the result will always be an integer, even if x is not divisible by y.\n",
    "# It does not round, however, it will always just cut off the decimal part, aka floor.\n",
    "int_division = x // y\n",
    "print(\"x // y = \", int_division)\n",
    "# Regular division would output about 3.333, but integer division outputs 3\n",
    "\n",
    "# Modulo\n",
    "# Modulo is the remainder after division. It is always an integer, and is always positive.\n",
    "modulo = x % y\n",
    "print(\"x % y = \", modulo)\n",
    "\n",
    "# Exponentiation\n",
    "# Exponentiation is the power of. It is the same as raising x to the power of y.\n",
    "exponentiation = x ** y\n",
    "print(\"x ** y = \", exponentiation)\n",
    "# This is like multiplying x by itself y times.\n",
    "# 20 * 20 * 20 * 20 * 20 * 20"
   ]
  },
  {
   "cell_type": "code",
   "execution_count": 12,
   "metadata": {},
   "outputs": [
    {
     "name": "stdout",
     "output_type": "stream",
     "text": [
      "33.0\n",
      "34.0\n",
      "23.0\n"
     ]
    }
   ],
   "source": [
    "equation_one = 5 * 2 - 8 / 4 + 5 ** 2\n",
    "print(equation_one)\n",
    "\n",
    "equation_two = (5 + 1) ** 2 - (8 + 2) / (4 + 1)\n",
    "print(equation_two)\n",
    "\n",
    "equation_three = (47 - (3 / 1 - 2) ** (80 - (2 * (9 + 1)))) / (5 - 3)\n",
    "print(equation_three)"
   ]
  }
 ],
 "metadata": {
  "interpreter": {
   "hash": "eb017cbe3d287060ab2ff85a435c9497168dd1c4d85019320a6d412a95ca102f"
  },
  "kernelspec": {
   "display_name": "Python 3.9.4 64-bit",
   "language": "python",
   "name": "python3"
  },
  "language_info": {
   "codemirror_mode": {
    "name": "ipython",
    "version": 3
   },
   "file_extension": ".py",
   "mimetype": "text/x-python",
   "name": "python",
   "nbconvert_exporter": "python",
   "pygments_lexer": "ipython3",
   "version": "3.9.4"
  },
  "orig_nbformat": 4
 },
 "nbformat": 4,
 "nbformat_minor": 2
}
